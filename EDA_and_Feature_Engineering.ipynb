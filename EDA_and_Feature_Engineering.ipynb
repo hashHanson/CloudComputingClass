{
  "nbformat": 4,
  "nbformat_minor": 0,
  "metadata": {
    "colab": {
      "name": "EDA and Feature Engineering.ipynb",
      "provenance": [],
      "collapsed_sections": [],
      "machine_shape": "hm",
      "authorship_tag": "ABX9TyOcXUnlFXx94W1qjKRUuXHS",
      "include_colab_link": true
    },
    "kernelspec": {
      "name": "python3",
      "display_name": "Python 3"
    },
    "accelerator": "TPU"
  },
  "cells": [
    {
      "cell_type": "markdown",
      "metadata": {
        "id": "view-in-github",
        "colab_type": "text"
      },
      "source": [
        "<a href=\"https://colab.research.google.com/github/hashHanson/CloudComputingClass/blob/master/EDA_and_Feature_Engineering.ipynb\" target=\"_parent\"><img src=\"https://colab.research.google.com/assets/colab-badge.svg\" alt=\"Open In Colab\"/></a>"
      ]
    },
    {
      "cell_type": "markdown",
      "metadata": {
        "id": "pu29iT0v9EuR",
        "colab_type": "text"
      },
      "source": [
        "# import libraries"
      ]
    },
    {
      "cell_type": "code",
      "metadata": {
        "id": "1K8fZFJi3ofC",
        "colab_type": "code",
        "colab": {}
      },
      "source": [
        "from google.colab import files\n",
        "from zipfile import ZipFile\n",
        "import os\n",
        "import io\n",
        "import seaborn as sns\n",
        "import pandas as pd\n",
        "import numpy as np\n",
        "from matplotlib import pyplot\n",
        "\n",
        "%matplotlib inline"
      ],
      "execution_count": 0,
      "outputs": []
    },
    {
      "cell_type": "markdown",
      "metadata": {
        "id": "mYXTwc_PCPgN",
        "colab_type": "text"
      },
      "source": [
        "# Load zipped Files into Colab"
      ]
    },
    {
      "cell_type": "code",
      "metadata": {
        "id": "LSlULJpv910t",
        "colab_type": "code",
        "outputId": "a96109b1-2b18-48cd-fb0e-f7dbf64107e8",
        "colab": {
          "resources": {
            "http://localhost:8080/nbextensions/google.colab/files.js": {
              "data": "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",
              "ok": true,
              "headers": [
                [
                  "content-type",
                  "application/javascript"
                ]
              ],
              "status": 200,
              "status_text": ""
            }
          },
          "base_uri": "https://localhost:8080/",
          "height": 176
        }
      },
      "source": [
        "lcUploads = files.upload()"
      ],
      "execution_count": 3,
      "outputs": [
        {
          "output_type": "display_data",
          "data": {
            "text/html": [
              "\n",
              "     <input type=\"file\" id=\"files-04fbc8f2-c40b-413f-9c86-75e0195281e7\" name=\"files[]\" multiple disabled />\n",
              "     <output id=\"result-04fbc8f2-c40b-413f-9c86-75e0195281e7\">\n",
              "      Upload widget is only available when the cell has been executed in the\n",
              "      current browser session. Please rerun this cell to enable.\n",
              "      </output>\n",
              "      <script src=\"/nbextensions/google.colab/files.js\"></script> "
            ],
            "text/plain": [
              "<IPython.core.display.HTML object>"
            ]
          },
          "metadata": {
            "tags": []
          }
        },
        {
          "output_type": "stream",
          "text": [
            "Saving metacritic-video-game-comments.zip to metacritic-video-game-comments (1).zip\n",
            "Saving steam-video-games.zip to steam-video-games (1).zip\n",
            "Saving vgsaledata.zip to vgsaledata (1).zip\n",
            "Saving video-game-sales-with-ratings.zip to video-game-sales-with-ratings (1).zip\n"
          ],
          "name": "stdout"
        }
      ]
    },
    {
      "cell_type": "markdown",
      "metadata": {
        "id": "A8dO7XxdGhVS",
        "colab_type": "text"
      },
      "source": [
        "# Extract csvs from zipfile and save as panda dataframes"
      ]
    },
    {
      "cell_type": "code",
      "metadata": {
        "id": "fGsuR-ESGvo_",
        "colab_type": "code",
        "colab": {}
      },
      "source": [
        "def extractCSV(zippedfile):\n",
        "  csv_files =[]\n",
        "  df = {}\n",
        "  \n",
        "  with ZipFile(zippedfile,'r') as zp:\n",
        "    csv_files= zp.namelist()\n",
        "    zp.extractall()\n",
        "    for f in csv_files:\n",
        "      f_name = f[:-4]\n",
        "      vars()['df_'+ str(f_name) ] = pd.read_csv(f)\n",
        "      df_name= 'df_'+ str(f_name) \n",
        "      df[df_name] = vars()['df_'+ str(f_name) ]\n",
        "  return df\n",
        "\n",
        "    #csv_files.append(zp.dir())"
      ],
      "execution_count": 0,
      "outputs": []
    },
    {
      "cell_type": "markdown",
      "metadata": {
        "id": "WbtWLBeV5MNz",
        "colab_type": "text"
      },
      "source": [
        "# Find number of Missing values"
      ]
    },
    {
      "cell_type": "code",
      "metadata": {
        "id": "C1NGUF2z5LL_",
        "colab_type": "code",
        "colab": {}
      },
      "source": [
        "def percent_missing(dataframe):\n",
        "  result ={}\n",
        "  \n",
        "  rows = dataframe.shape[0]\n",
        "  print(f\"number rows in Data frame:{rows}\")\n",
        "  for col in dataframe.columns:\n",
        "    result[\"Column Name\"]= str(col)\n",
        "    missing_vals = dataframe[col].isnull().sum()\n",
        "    rows_with_vals = rows - missing_vals\n",
        "    percent_missing_vals =(missing_vals/rows) * 100\n",
        "\n",
        "    result[\"Rows with Values\"]= rows_with_vals\n",
        "    result[\"Missing values\"] = missing_vals\n",
        "    result[\"Percentage Missing values\"]= percent_missing_vals\n",
        "\n",
        "    print(result)\n"
      ],
      "execution_count": 0,
      "outputs": []
    },
    {
      "cell_type": "markdown",
      "metadata": {
        "id": "u08zbVgezzaF",
        "colab_type": "text"
      },
      "source": [
        "# Metacritic data Description"
      ]
    },
    {
      "cell_type": "code",
      "metadata": {
        "id": "wvhGoMOzOC3M",
        "colab_type": "code",
        "colab": {}
      },
      "source": [
        "data_1=extractCSV('metacritic-video-game-comments.zip') # you can add other zip file names here"
      ],
      "execution_count": 0,
      "outputs": []
    },
    {
      "cell_type": "code",
      "metadata": {
        "id": "5uvyvlwTVoWN",
        "colab_type": "code",
        "outputId": "146e4f46-3384-4e52-d600-dd90bb21cf59",
        "colab": {
          "base_uri": "https://localhost:8080/",
          "height": 34
        }
      },
      "source": [
        "data_1.keys()"
      ],
      "execution_count": 0,
      "outputs": [
        {
          "output_type": "execute_result",
          "data": {
            "text/plain": [
              "dict_keys(['df_metacritic_game_info', 'df_metacritic_game_user_comments'])"
            ]
          },
          "metadata": {
            "tags": []
          },
          "execution_count": 9
        }
      ]
    },
    {
      "cell_type": "markdown",
      "metadata": {
        "id": "p8ZvS7px_ynQ",
        "colab_type": "text"
      },
      "source": [
        ""
      ]
    },
    {
      "cell_type": "code",
      "metadata": {
        "id": "hQu4ExyfZYcr",
        "colab_type": "code",
        "outputId": "41e6da51-d600-4039-fe59-d79a2d1d7715",
        "colab": {
          "base_uri": "https://localhost:8080/",
          "height": 102
        }
      },
      "source": [
        "#name data frames based on dictionary key values. or you can use any name.\n",
        "df_metacritic_game_info = data_1[\"df_metacritic_game_info\"] \n",
        "df_metacritic_game_user_comments= data_1[\"df_metacritic_game_user_comments\"]\n",
        "\n",
        "#df_metacritic_game_info.info()\n",
        "df_metacritic_game_info.describe(include=['object', 'float', 'int'])\n",
        "\n",
        "df_metacritic_game_info.Title.describe(include=['object', 'float', 'int'])\n"
      ],
      "execution_count": 0,
      "outputs": [
        {
          "output_type": "execute_result",
          "data": {
            "text/plain": [
              "count              5000\n",
              "unique             3438\n",
              "top       Madden NFL 07\n",
              "freq                  7\n",
              "Name: Title, dtype: object"
            ]
          },
          "metadata": {
            "tags": []
          },
          "execution_count": 27
        }
      ]
    },
    {
      "cell_type": "code",
      "metadata": {
        "id": "XIsHrR-Z1Rs5",
        "colab_type": "code",
        "outputId": "56dc5584-6294-4d67-b5e5-345b4c6439ab",
        "colab": {
          "base_uri": "https://localhost:8080/",
          "height": 669
        }
      },
      "source": [
        "df_metacritic_game_info.head(20)"
      ],
      "execution_count": 0,
      "outputs": [
        {
          "output_type": "execute_result",
          "data": {
            "text/html": [
              "<div>\n",
              "<style scoped>\n",
              "    .dataframe tbody tr th:only-of-type {\n",
              "        vertical-align: middle;\n",
              "    }\n",
              "\n",
              "    .dataframe tbody tr th {\n",
              "        vertical-align: top;\n",
              "    }\n",
              "\n",
              "    .dataframe thead th {\n",
              "        text-align: right;\n",
              "    }\n",
              "</style>\n",
              "<table border=\"1\" class=\"dataframe\">\n",
              "  <thead>\n",
              "    <tr style=\"text-align: right;\">\n",
              "      <th></th>\n",
              "      <th>Unnamed: 0</th>\n",
              "      <th>Title</th>\n",
              "      <th>Year</th>\n",
              "      <th>Publisher</th>\n",
              "      <th>Genre</th>\n",
              "      <th>Platform</th>\n",
              "      <th>Metascore</th>\n",
              "      <th>Avg_Userscore</th>\n",
              "      <th>No_Players</th>\n",
              "    </tr>\n",
              "  </thead>\n",
              "  <tbody>\n",
              "    <tr>\n",
              "      <th>0</th>\n",
              "      <td>0</td>\n",
              "      <td>The Legend of Zelda: Ocarina of Time</td>\n",
              "      <td>1998</td>\n",
              "      <td>Nintendo</td>\n",
              "      <td>Action Adventure;Fantasy</td>\n",
              "      <td>Nintendo64</td>\n",
              "      <td>99</td>\n",
              "      <td>9.1</td>\n",
              "      <td>1 Player</td>\n",
              "    </tr>\n",
              "    <tr>\n",
              "      <th>1</th>\n",
              "      <td>1</td>\n",
              "      <td>Tony Hawk's Pro Skater 2</td>\n",
              "      <td>2000</td>\n",
              "      <td>NeversoftEntertainment</td>\n",
              "      <td>Sports;Alternative;Skateboarding</td>\n",
              "      <td>PlayStation</td>\n",
              "      <td>98</td>\n",
              "      <td>7.4</td>\n",
              "      <td>1-2</td>\n",
              "    </tr>\n",
              "    <tr>\n",
              "      <th>2</th>\n",
              "      <td>2</td>\n",
              "      <td>Grand Theft Auto IV</td>\n",
              "      <td>2008</td>\n",
              "      <td>RockstarNorth</td>\n",
              "      <td>Action Adventure;Modern;Modern;Open-World</td>\n",
              "      <td>PlayStation3</td>\n",
              "      <td>98</td>\n",
              "      <td>7.5</td>\n",
              "      <td>1 Player</td>\n",
              "    </tr>\n",
              "    <tr>\n",
              "      <th>3</th>\n",
              "      <td>3</td>\n",
              "      <td>SoulCalibur</td>\n",
              "      <td>1999</td>\n",
              "      <td>Namco</td>\n",
              "      <td>Action;Fighting;3D</td>\n",
              "      <td>Dreamcast</td>\n",
              "      <td>98</td>\n",
              "      <td>8.6</td>\n",
              "      <td>1-2</td>\n",
              "    </tr>\n",
              "    <tr>\n",
              "      <th>4</th>\n",
              "      <td>4</td>\n",
              "      <td>Grand Theft Auto IV</td>\n",
              "      <td>2008</td>\n",
              "      <td>RockstarNorth</td>\n",
              "      <td>Action Adventure;Modern;Modern;Open-World</td>\n",
              "      <td>Xbox360</td>\n",
              "      <td>98</td>\n",
              "      <td>7.9</td>\n",
              "      <td>1 Player</td>\n",
              "    </tr>\n",
              "    <tr>\n",
              "      <th>5</th>\n",
              "      <td>5</td>\n",
              "      <td>Super Mario Galaxy</td>\n",
              "      <td>2007</td>\n",
              "      <td>Nintendo</td>\n",
              "      <td>Action;Platformer;Platformer;3D;3D</td>\n",
              "      <td>Wii</td>\n",
              "      <td>97</td>\n",
              "      <td>9.0</td>\n",
              "      <td>No Online Multiplayer</td>\n",
              "    </tr>\n",
              "    <tr>\n",
              "      <th>6</th>\n",
              "      <td>6</td>\n",
              "      <td>Super Mario Galaxy 2</td>\n",
              "      <td>2010</td>\n",
              "      <td>NintendoEADTokyo</td>\n",
              "      <td>Action;Platformer;Platformer;3D;3D</td>\n",
              "      <td>Wii</td>\n",
              "      <td>97</td>\n",
              "      <td>9.1</td>\n",
              "      <td>No Online Multiplayer</td>\n",
              "    </tr>\n",
              "    <tr>\n",
              "      <th>7</th>\n",
              "      <td>7</td>\n",
              "      <td>Grand Theft Auto V</td>\n",
              "      <td>2014</td>\n",
              "      <td>RockstarNorth</td>\n",
              "      <td>Action Adventure;Modern;Open-World</td>\n",
              "      <td>XboxOne</td>\n",
              "      <td>97</td>\n",
              "      <td>7.8</td>\n",
              "      <td>Up to 30</td>\n",
              "    </tr>\n",
              "    <tr>\n",
              "      <th>8</th>\n",
              "      <td>8</td>\n",
              "      <td>Grand Theft Auto V</td>\n",
              "      <td>2013</td>\n",
              "      <td>RockstarNorth</td>\n",
              "      <td>Modern;Action Adventure;Modern;Open-World</td>\n",
              "      <td>PlayStation3</td>\n",
              "      <td>97</td>\n",
              "      <td>8.3</td>\n",
              "      <td>Up to 16</td>\n",
              "    </tr>\n",
              "    <tr>\n",
              "      <th>9</th>\n",
              "      <td>9</td>\n",
              "      <td>Grand Theft Auto V</td>\n",
              "      <td>2013</td>\n",
              "      <td>RockstarNorth</td>\n",
              "      <td>Modern;Action Adventure;Modern;Open-World</td>\n",
              "      <td>Xbox360</td>\n",
              "      <td>97</td>\n",
              "      <td>8.3</td>\n",
              "      <td>Up to 16</td>\n",
              "    </tr>\n",
              "    <tr>\n",
              "      <th>10</th>\n",
              "      <td>10</td>\n",
              "      <td>Tony Hawk's Pro Skater 2</td>\n",
              "      <td>2000</td>\n",
              "      <td>Treyarch</td>\n",
              "      <td>Sports;Alternative;Skateboarding</td>\n",
              "      <td>Dreamcast</td>\n",
              "      <td>97</td>\n",
              "      <td>6.2</td>\n",
              "      <td>not specified</td>\n",
              "    </tr>\n",
              "    <tr>\n",
              "      <th>11</th>\n",
              "      <td>11</td>\n",
              "      <td>The Legend of Zelda: Breath of the Wild</td>\n",
              "      <td>2017</td>\n",
              "      <td>Nintendo</td>\n",
              "      <td>Action Adventure;Open-World</td>\n",
              "      <td>Switch</td>\n",
              "      <td>97</td>\n",
              "      <td>8.5</td>\n",
              "      <td>No Online Multiplayer</td>\n",
              "    </tr>\n",
              "    <tr>\n",
              "      <th>12</th>\n",
              "      <td>12</td>\n",
              "      <td>Tony Hawk's Pro Skater 3</td>\n",
              "      <td>2001</td>\n",
              "      <td>NeversoftEntertainment</td>\n",
              "      <td>Sports;Alternative;Skateboarding</td>\n",
              "      <td>PlayStation2</td>\n",
              "      <td>97</td>\n",
              "      <td>7.4</td>\n",
              "      <td>1-2</td>\n",
              "    </tr>\n",
              "    <tr>\n",
              "      <th>13</th>\n",
              "      <td>13</td>\n",
              "      <td>Perfect Dark</td>\n",
              "      <td>2000</td>\n",
              "      <td>RareLtd.</td>\n",
              "      <td>Action;Shooter;First-Person;Sci-Fi</td>\n",
              "      <td>Nintendo64</td>\n",
              "      <td>97</td>\n",
              "      <td>8.9</td>\n",
              "      <td>not specified</td>\n",
              "    </tr>\n",
              "    <tr>\n",
              "      <th>14</th>\n",
              "      <td>14</td>\n",
              "      <td>Grand Theft Auto V</td>\n",
              "      <td>2014</td>\n",
              "      <td>RockstarNorth</td>\n",
              "      <td>Action Adventure;Modern;Open-World</td>\n",
              "      <td>PlayStation4</td>\n",
              "      <td>97</td>\n",
              "      <td>8.3</td>\n",
              "      <td>Up to 30</td>\n",
              "    </tr>\n",
              "    <tr>\n",
              "      <th>15</th>\n",
              "      <td>15</td>\n",
              "      <td>Metroid Prime</td>\n",
              "      <td>2002</td>\n",
              "      <td>RetroStudios</td>\n",
              "      <td>Action;Shooter;First-Person;Sci-Fi</td>\n",
              "      <td>GameCube</td>\n",
              "      <td>97</td>\n",
              "      <td>9.2</td>\n",
              "      <td>1 Player</td>\n",
              "    </tr>\n",
              "    <tr>\n",
              "      <th>16</th>\n",
              "      <td>16</td>\n",
              "      <td>Grand Theft Auto III</td>\n",
              "      <td>2001</td>\n",
              "      <td>DMADesign</td>\n",
              "      <td>Action Adventure;Modern</td>\n",
              "      <td>PlayStation2</td>\n",
              "      <td>97</td>\n",
              "      <td>8.5</td>\n",
              "      <td>1 Player</td>\n",
              "    </tr>\n",
              "    <tr>\n",
              "      <th>17</th>\n",
              "      <td>17</td>\n",
              "      <td>Super Mario Odyssey</td>\n",
              "      <td>2017</td>\n",
              "      <td>Nintendo</td>\n",
              "      <td>Action;Platformer;3D</td>\n",
              "      <td>Switch</td>\n",
              "      <td>97</td>\n",
              "      <td>8.9</td>\n",
              "      <td>No Online Multiplayer</td>\n",
              "    </tr>\n",
              "    <tr>\n",
              "      <th>18</th>\n",
              "      <td>18</td>\n",
              "      <td>Halo: Combat Evolved</td>\n",
              "      <td>2001</td>\n",
              "      <td>BungieSoftware</td>\n",
              "      <td>Action;Shooter;First-Person;Sci-Fi</td>\n",
              "      <td>Xbox</td>\n",
              "      <td>97</td>\n",
              "      <td>8.6</td>\n",
              "      <td>1-4</td>\n",
              "    </tr>\n",
              "    <tr>\n",
              "      <th>19</th>\n",
              "      <td>19</td>\n",
              "      <td>NFL 2K1</td>\n",
              "      <td>2000</td>\n",
              "      <td>VisualConcepts</td>\n",
              "      <td>Sports;Traditional;Football;Sim</td>\n",
              "      <td>Dreamcast</td>\n",
              "      <td>97</td>\n",
              "      <td>6.4</td>\n",
              "      <td>not specified</td>\n",
              "    </tr>\n",
              "  </tbody>\n",
              "</table>\n",
              "</div>"
            ],
            "text/plain": [
              "    Unnamed: 0  ...             No_Players\n",
              "0            0  ...               1 Player\n",
              "1            1  ...                   1-2 \n",
              "2            2  ...               1 Player\n",
              "3            3  ...                   1-2 \n",
              "4            4  ...               1 Player\n",
              "5            5  ...  No Online Multiplayer\n",
              "6            6  ...  No Online Multiplayer\n",
              "7            7  ...              Up to 30 \n",
              "8            8  ...              Up to 16 \n",
              "9            9  ...              Up to 16 \n",
              "10          10  ...          not specified\n",
              "11          11  ...  No Online Multiplayer\n",
              "12          12  ...                   1-2 \n",
              "13          13  ...          not specified\n",
              "14          14  ...              Up to 30 \n",
              "15          15  ...               1 Player\n",
              "16          16  ...               1 Player\n",
              "17          17  ...  No Online Multiplayer\n",
              "18          18  ...                   1-4 \n",
              "19          19  ...          not specified\n",
              "\n",
              "[20 rows x 9 columns]"
            ]
          },
          "metadata": {
            "tags": []
          },
          "execution_count": 16
        }
      ]
    },
    {
      "cell_type": "code",
      "metadata": {
        "id": "5UtmZQNOZjj4",
        "colab_type": "code",
        "outputId": "ad9328eb-422a-4199-e22e-91ea98d5ade2",
        "colab": {
          "base_uri": "https://localhost:8080/",
          "height": 187
        }
      },
      "source": [
        "percent_missing(df_metacritic_game_info)"
      ],
      "execution_count": 0,
      "outputs": [
        {
          "output_type": "stream",
          "text": [
            "number rows in Data frame:5000\n",
            "{'Column Name': 'Unnamed: 0', 'Rows with Values': 5000, 'Missing values': 0, 'Percentage Missing values': 0.0}\n",
            "{'Column Name': 'Title', 'Rows with Values': 5000, 'Missing values': 0, 'Percentage Missing values': 0.0}\n",
            "{'Column Name': 'Year', 'Rows with Values': 5000, 'Missing values': 0, 'Percentage Missing values': 0.0}\n",
            "{'Column Name': 'Publisher', 'Rows with Values': 5000, 'Missing values': 0, 'Percentage Missing values': 0.0}\n",
            "{'Column Name': 'Genre', 'Rows with Values': 5000, 'Missing values': 0, 'Percentage Missing values': 0.0}\n",
            "{'Column Name': 'Platform', 'Rows with Values': 5000, 'Missing values': 0, 'Percentage Missing values': 0.0}\n",
            "{'Column Name': 'Metascore', 'Rows with Values': 5000, 'Missing values': 0, 'Percentage Missing values': 0.0}\n",
            "{'Column Name': 'Avg_Userscore', 'Rows with Values': 5000, 'Missing values': 0, 'Percentage Missing values': 0.0}\n",
            "{'Column Name': 'No_Players', 'Rows with Values': 4993, 'Missing values': 7, 'Percentage Missing values': 0.13999999999999999}\n"
          ],
          "name": "stdout"
        }
      ]
    },
    {
      "cell_type": "markdown",
      "metadata": {
        "id": "_Is7ODYC_kma",
        "colab_type": "text"
      },
      "source": [
        "### Metacritic Comments"
      ]
    },
    {
      "cell_type": "code",
      "metadata": {
        "id": "1TfQL2IE-w-1",
        "colab_type": "code",
        "outputId": "02196b90-8bd7-48b5-a18a-9924cfc8313f",
        "colab": {
          "base_uri": "https://localhost:8080/",
          "height": 390
        }
      },
      "source": [
        "# Metacritic Comments\n",
        "\n",
        "df_metacritic_game_user_comments = data_1[\"df_metacritic_game_user_comments\"]\n",
        "df_metacritic_game_user_comments.describe(include=['object', 'float', 'int'])"
      ],
      "execution_count": 0,
      "outputs": [
        {
          "output_type": "execute_result",
          "data": {
            "text/html": [
              "<div>\n",
              "<style scoped>\n",
              "    .dataframe tbody tr th:only-of-type {\n",
              "        vertical-align: middle;\n",
              "    }\n",
              "\n",
              "    .dataframe tbody tr th {\n",
              "        vertical-align: top;\n",
              "    }\n",
              "\n",
              "    .dataframe thead th {\n",
              "        text-align: right;\n",
              "    }\n",
              "</style>\n",
              "<table border=\"1\" class=\"dataframe\">\n",
              "  <thead>\n",
              "    <tr style=\"text-align: right;\">\n",
              "      <th></th>\n",
              "      <th>Unnamed: 0</th>\n",
              "      <th>Title</th>\n",
              "      <th>Platform</th>\n",
              "      <th>Userscore</th>\n",
              "      <th>Comment</th>\n",
              "      <th>Username</th>\n",
              "    </tr>\n",
              "  </thead>\n",
              "  <tbody>\n",
              "    <tr>\n",
              "      <th>count</th>\n",
              "      <td>283983.000000</td>\n",
              "      <td>283983</td>\n",
              "      <td>283983</td>\n",
              "      <td>283983.000000</td>\n",
              "      <td>283960</td>\n",
              "      <td>283980</td>\n",
              "    </tr>\n",
              "    <tr>\n",
              "      <th>unique</th>\n",
              "      <td>NaN</td>\n",
              "      <td>2325</td>\n",
              "      <td>20</td>\n",
              "      <td>NaN</td>\n",
              "      <td>277706</td>\n",
              "      <td>133664</td>\n",
              "    </tr>\n",
              "    <tr>\n",
              "      <th>top</th>\n",
              "      <td>NaN</td>\n",
              "      <td>Call of Duty: Modern Warfare 3</td>\n",
              "      <td>PC</td>\n",
              "      <td>NaN</td>\n",
              "      <td>NO DiretideNO New HeroNO UpdatesNO Normal matc...</td>\n",
              "      <td>AnonymousMC</td>\n",
              "    </tr>\n",
              "    <tr>\n",
              "      <th>freq</th>\n",
              "      <td>NaN</td>\n",
              "      <td>5844</td>\n",
              "      <td>118936</td>\n",
              "      <td>NaN</td>\n",
              "      <td>83</td>\n",
              "      <td>914</td>\n",
              "    </tr>\n",
              "    <tr>\n",
              "      <th>mean</th>\n",
              "      <td>141991.000000</td>\n",
              "      <td>NaN</td>\n",
              "      <td>NaN</td>\n",
              "      <td>7.618308</td>\n",
              "      <td>NaN</td>\n",
              "      <td>NaN</td>\n",
              "    </tr>\n",
              "    <tr>\n",
              "      <th>std</th>\n",
              "      <td>81978.975085</td>\n",
              "      <td>NaN</td>\n",
              "      <td>NaN</td>\n",
              "      <td>3.131767</td>\n",
              "      <td>NaN</td>\n",
              "      <td>NaN</td>\n",
              "    </tr>\n",
              "    <tr>\n",
              "      <th>min</th>\n",
              "      <td>0.000000</td>\n",
              "      <td>NaN</td>\n",
              "      <td>NaN</td>\n",
              "      <td>0.000000</td>\n",
              "      <td>NaN</td>\n",
              "      <td>NaN</td>\n",
              "    </tr>\n",
              "    <tr>\n",
              "      <th>25%</th>\n",
              "      <td>70995.500000</td>\n",
              "      <td>NaN</td>\n",
              "      <td>NaN</td>\n",
              "      <td>7.000000</td>\n",
              "      <td>NaN</td>\n",
              "      <td>NaN</td>\n",
              "    </tr>\n",
              "    <tr>\n",
              "      <th>50%</th>\n",
              "      <td>141991.000000</td>\n",
              "      <td>NaN</td>\n",
              "      <td>NaN</td>\n",
              "      <td>9.000000</td>\n",
              "      <td>NaN</td>\n",
              "      <td>NaN</td>\n",
              "    </tr>\n",
              "    <tr>\n",
              "      <th>75%</th>\n",
              "      <td>212986.500000</td>\n",
              "      <td>NaN</td>\n",
              "      <td>NaN</td>\n",
              "      <td>10.000000</td>\n",
              "      <td>NaN</td>\n",
              "      <td>NaN</td>\n",
              "    </tr>\n",
              "    <tr>\n",
              "      <th>max</th>\n",
              "      <td>283982.000000</td>\n",
              "      <td>NaN</td>\n",
              "      <td>NaN</td>\n",
              "      <td>10.000000</td>\n",
              "      <td>NaN</td>\n",
              "      <td>NaN</td>\n",
              "    </tr>\n",
              "  </tbody>\n",
              "</table>\n",
              "</div>"
            ],
            "text/plain": [
              "           Unnamed: 0  ...     Username\n",
              "count   283983.000000  ...       283980\n",
              "unique            NaN  ...       133664\n",
              "top               NaN  ...  AnonymousMC\n",
              "freq              NaN  ...          914\n",
              "mean    141991.000000  ...          NaN\n",
              "std      81978.975085  ...          NaN\n",
              "min          0.000000  ...          NaN\n",
              "25%      70995.500000  ...          NaN\n",
              "50%     141991.000000  ...          NaN\n",
              "75%     212986.500000  ...          NaN\n",
              "max     283982.000000  ...          NaN\n",
              "\n",
              "[11 rows x 6 columns]"
            ]
          },
          "metadata": {
            "tags": []
          },
          "execution_count": 22
        }
      ]
    },
    {
      "cell_type": "code",
      "metadata": {
        "id": "weO5rLqeBbD_",
        "colab_type": "code",
        "outputId": "070f898e-9f5d-4803-bd06-7c9776301b07",
        "colab": {
          "base_uri": "https://localhost:8080/",
          "height": 136
        }
      },
      "source": [
        "percent_missing(df_metacritic_game_user_comments)"
      ],
      "execution_count": 0,
      "outputs": [
        {
          "output_type": "stream",
          "text": [
            "number rows in Data frame:283983\n",
            "{'Column Name': 'Unnamed: 0', 'Rows with Values': 283983, 'Missing values': 0, 'Percentage Missing values': 0.0}\n",
            "{'Column Name': 'Title', 'Rows with Values': 283983, 'Missing values': 0, 'Percentage Missing values': 0.0}\n",
            "{'Column Name': 'Platform', 'Rows with Values': 283983, 'Missing values': 0, 'Percentage Missing values': 0.0}\n",
            "{'Column Name': 'Userscore', 'Rows with Values': 283983, 'Missing values': 0, 'Percentage Missing values': 0.0}\n",
            "{'Column Name': 'Comment', 'Rows with Values': 283960, 'Missing values': 23, 'Percentage Missing values': 0.008099076353161986}\n",
            "{'Column Name': 'Username', 'Rows with Values': 283980, 'Missing values': 3, 'Percentage Missing values': 0.001056401263455911}\n"
          ],
          "name": "stdout"
        }
      ]
    },
    {
      "cell_type": "markdown",
      "metadata": {
        "id": "dvNhNgEFCjfZ",
        "colab_type": "text"
      },
      "source": [
        "# Vgsalesdata Data Description"
      ]
    },
    {
      "cell_type": "code",
      "metadata": {
        "id": "6TIQ7cDVCirT",
        "colab_type": "code",
        "outputId": "d1d790bf-e7dc-4a5f-c242-141569481e1f",
        "colab": {
          "base_uri": "https://localhost:8080/",
          "height": 34
        }
      },
      "source": [
        "data_2 = extractCSV(\"vgsaledata.zip\")\n",
        "data_2.keys()"
      ],
      "execution_count": 7,
      "outputs": [
        {
          "output_type": "execute_result",
          "data": {
            "text/plain": [
              "dict_keys(['df_vgscore'])"
            ]
          },
          "metadata": {
            "tags": []
          },
          "execution_count": 7
        }
      ]
    },
    {
      "cell_type": "code",
      "metadata": {
        "id": "d0L4el-lDvqu",
        "colab_type": "code",
        "outputId": "ba753d2b-9e6d-48f2-8e41-9e4984d87900",
        "colab": {
          "base_uri": "https://localhost:8080/",
          "height": 323
        }
      },
      "source": [
        "df_vgscore = data_2[\"df_vgscore\"]\n",
        "\n",
        "df_vgscore.describe()"
      ],
      "execution_count": 178,
      "outputs": [
        {
          "output_type": "execute_result",
          "data": {
            "text/html": [
              "<div>\n",
              "<style scoped>\n",
              "    .dataframe tbody tr th:only-of-type {\n",
              "        vertical-align: middle;\n",
              "    }\n",
              "\n",
              "    .dataframe tbody tr th {\n",
              "        vertical-align: top;\n",
              "    }\n",
              "\n",
              "    .dataframe thead th {\n",
              "        text-align: right;\n",
              "    }\n",
              "</style>\n",
              "<table border=\"1\" class=\"dataframe\">\n",
              "  <thead>\n",
              "    <tr style=\"text-align: right;\">\n",
              "      <th></th>\n",
              "      <th>title</th>\n",
              "      <th>user_Score</th>\n",
              "      <th>release_Date</th>\n",
              "      <th>console</th>\n",
              "      <th>url</th>\n",
              "      <th>publisher</th>\n",
              "      <th>developer</th>\n",
              "      <th>tot_ship</th>\n",
              "      <th>tot_sale</th>\n",
              "      <th>na_sale</th>\n",
              "      <th>pal_sale</th>\n",
              "      <th>jp_sale</th>\n",
              "      <th>other_sale</th>\n",
              "      <th>last_update</th>\n",
              "      <th>VGscore</th>\n",
              "      <th>release_year</th>\n",
              "      <th>name</th>\n",
              "      <th>Name</th>\n",
              "    </tr>\n",
              "  </thead>\n",
              "  <tbody>\n",
              "    <tr>\n",
              "      <th>count</th>\n",
              "      <td>53049</td>\n",
              "      <td>53049</td>\n",
              "      <td>53049</td>\n",
              "      <td>53049</td>\n",
              "      <td>53049</td>\n",
              "      <td>53049</td>\n",
              "      <td>53049</td>\n",
              "      <td>1559</td>\n",
              "      <td>19305</td>\n",
              "      <td>12944</td>\n",
              "      <td>13139</td>\n",
              "      <td>6989</td>\n",
              "      <td>15460</td>\n",
              "      <td>8312</td>\n",
              "      <td>53049</td>\n",
              "      <td>53049</td>\n",
              "      <td>53049</td>\n",
              "      <td>53049</td>\n",
              "    </tr>\n",
              "    <tr>\n",
              "      <th>unique</th>\n",
              "      <td>35705</td>\n",
              "      <td>51</td>\n",
              "      <td>7264</td>\n",
              "      <td>73</td>\n",
              "      <td>53049</td>\n",
              "      <td>3146</td>\n",
              "      <td>7504</td>\n",
              "      <td>443</td>\n",
              "      <td>510</td>\n",
              "      <td>336</td>\n",
              "      <td>267</td>\n",
              "      <td>131</td>\n",
              "      <td>138</td>\n",
              "      <td>427</td>\n",
              "      <td>62</td>\n",
              "      <td>47</td>\n",
              "      <td>35705</td>\n",
              "      <td>35532</td>\n",
              "    </tr>\n",
              "    <tr>\n",
              "      <th>top</th>\n",
              "      <td>Plants vs. Zombies</td>\n",
              "      <td>N/A</td>\n",
              "      <td>1994-01-01 00:00:00</td>\n",
              "      <td>PC</td>\n",
              "      <td>http://www.vgchartz.com/game/224072/alvastia-c...</td>\n",
              "      <td>Sega</td>\n",
              "      <td>Unknown</td>\n",
              "      <td>0.12m</td>\n",
              "      <td>0.01m</td>\n",
              "      <td>0.01m</td>\n",
              "      <td>0.00m</td>\n",
              "      <td>0.01m</td>\n",
              "      <td>0.00m</td>\n",
              "      <td>22nd Sep 18</td>\n",
              "      <td>N/A</td>\n",
              "      <td>2009</td>\n",
              "      <td>Plants vs. Zombies</td>\n",
              "      <td>Plants vs. Zombies</td>\n",
              "    </tr>\n",
              "    <tr>\n",
              "      <th>freq</th>\n",
              "      <td>20</td>\n",
              "      <td>52713</td>\n",
              "      <td>507</td>\n",
              "      <td>9905</td>\n",
              "      <td>1</td>\n",
              "      <td>2084</td>\n",
              "      <td>4479</td>\n",
              "      <td>72</td>\n",
              "      <td>1364</td>\n",
              "      <td>658</td>\n",
              "      <td>2249</td>\n",
              "      <td>1140</td>\n",
              "      <td>5193</td>\n",
              "      <td>148</td>\n",
              "      <td>52291</td>\n",
              "      <td>4303</td>\n",
              "      <td>20</td>\n",
              "      <td>20</td>\n",
              "    </tr>\n",
              "    <tr>\n",
              "      <th>first</th>\n",
              "      <td>NaN</td>\n",
              "      <td>NaN</td>\n",
              "      <td>1970-01-01 00:00:00</td>\n",
              "      <td>NaN</td>\n",
              "      <td>NaN</td>\n",
              "      <td>NaN</td>\n",
              "      <td>NaN</td>\n",
              "      <td>NaN</td>\n",
              "      <td>NaN</td>\n",
              "      <td>NaN</td>\n",
              "      <td>NaN</td>\n",
              "      <td>NaN</td>\n",
              "      <td>NaN</td>\n",
              "      <td>NaN</td>\n",
              "      <td>NaN</td>\n",
              "      <td>NaN</td>\n",
              "      <td>NaN</td>\n",
              "      <td>NaN</td>\n",
              "    </tr>\n",
              "    <tr>\n",
              "      <th>last</th>\n",
              "      <td>NaN</td>\n",
              "      <td>NaN</td>\n",
              "      <td>2020-12-31 00:00:00</td>\n",
              "      <td>NaN</td>\n",
              "      <td>NaN</td>\n",
              "      <td>NaN</td>\n",
              "      <td>NaN</td>\n",
              "      <td>NaN</td>\n",
              "      <td>NaN</td>\n",
              "      <td>NaN</td>\n",
              "      <td>NaN</td>\n",
              "      <td>NaN</td>\n",
              "      <td>NaN</td>\n",
              "      <td>NaN</td>\n",
              "      <td>NaN</td>\n",
              "      <td>NaN</td>\n",
              "      <td>NaN</td>\n",
              "      <td>NaN</td>\n",
              "    </tr>\n",
              "  </tbody>\n",
              "</table>\n",
              "</div>"
            ],
            "text/plain": [
              "                         title  ...                Name\n",
              "count                    53049  ...               53049\n",
              "unique                   35705  ...               35532\n",
              "top     Plants vs. Zombies      ...  Plants vs. Zombies\n",
              "freq                        20  ...                  20\n",
              "first                      NaN  ...                 NaN\n",
              "last                       NaN  ...                 NaN\n",
              "\n",
              "[6 rows x 18 columns]"
            ]
          },
          "metadata": {
            "tags": []
          },
          "execution_count": 178
        }
      ]
    },
    {
      "cell_type": "code",
      "metadata": {
        "id": "v-AKPsKHEa-j",
        "colab_type": "code",
        "outputId": "7add89b7-5eca-4f04-837d-7910b3c52ed9",
        "colab": {
          "base_uri": "https://localhost:8080/",
          "height": 289
        }
      },
      "source": [
        "percent_missing(df_vgscore)"
      ],
      "execution_count": 19,
      "outputs": [
        {
          "output_type": "stream",
          "text": [
            "number rows in Data frame:55864\n",
            "{'Column Name': 'title', 'Rows with Values': 55864, 'Missing values': 0, 'Percentage Missing values': 0.0}\n",
            "{'Column Name': 'user_Score', 'Rows with Values': 55864, 'Missing values': 0, 'Percentage Missing values': 0.0}\n",
            "{'Column Name': 'release_Date', 'Rows with Values': 55864, 'Missing values': 0, 'Percentage Missing values': 0.0}\n",
            "{'Column Name': 'console', 'Rows with Values': 55864, 'Missing values': 0, 'Percentage Missing values': 0.0}\n",
            "{'Column Name': 'url', 'Rows with Values': 55864, 'Missing values': 0, 'Percentage Missing values': 0.0}\n",
            "{'Column Name': 'publisher', 'Rows with Values': 55864, 'Missing values': 0, 'Percentage Missing values': 0.0}\n",
            "{'Column Name': 'developer', 'Rows with Values': 55864, 'Missing values': 0, 'Percentage Missing values': 0.0}\n",
            "{'Column Name': 'tot_ship', 'Rows with Values': 1966, 'Missing values': 53898, 'Percentage Missing values': 96.48073893741945}\n",
            "{'Column Name': 'tot_sale', 'Rows with Values': 19409, 'Missing values': 36455, 'Percentage Missing values': 65.25669483030217}\n",
            "{'Column Name': 'na_sale', 'Rows with Values': 12961, 'Missing values': 42903, 'Percentage Missing values': 76.79901188600888}\n",
            "{'Column Name': 'pal_sale', 'Rows with Values': 13186, 'Missing values': 42678, 'Percentage Missing values': 76.39624803093227}\n",
            "{'Column Name': 'jp_sale', 'Rows with Values': 7041, 'Missing values': 48823, 'Percentage Missing values': 87.39617642846915}\n",
            "{'Column Name': 'other_sale', 'Rows with Values': 15518, 'Missing values': 40346, 'Percentage Missing values': 72.22182443076042}\n",
            "{'Column Name': 'last_update', 'Rows with Values': 9427, 'Missing values': 46437, 'Percentage Missing values': 83.12508950307891}\n",
            "{'Column Name': 'VGscore', 'Rows with Values': 55864, 'Missing values': 0, 'Percentage Missing values': 0.0}\n"
          ],
          "name": "stdout"
        }
      ]
    },
    {
      "cell_type": "markdown",
      "metadata": {
        "id": "u45xCvupUQLg",
        "colab_type": "text"
      },
      "source": [
        "### vgsalesdata:  \n",
        "\n",
        "*   handle missing values for columns of interest\n",
        "*   create release year from release_Date field\n",
        "\n",
        "\n",
        "\n",
        "\n",
        "\n"
      ]
    },
    {
      "cell_type": "code",
      "metadata": {
        "id": "zMy8AAuQGZhp",
        "colab_type": "code",
        "colab": {}
      },
      "source": [
        " # Missing values for release date will be filled with last_update date. This will at-least get us close to the decade in which game was release\n",
        "df_vgscore.release_Date = df_vgscore[['release_Date','last_update']].apply(lambda x: x['last_update'] if x['release_Date'] == \"N/A\" else x['release_Date'], axis=1)\n",
        "\n",
        "df_vgscore.release_Date.dropna()\n",
        "df_vgscore[df_vgscore[\"release_Date\"]==\"N/A\"] # Check if all N/As have been replaced.\n",
        "df_vgscore[\"Platform\"]= df_vgscore.console\n"
      ],
      "execution_count": 0,
      "outputs": []
    },
    {
      "cell_type": "code",
      "metadata": {
        "id": "zh9GynXgVJ3v",
        "colab_type": "code",
        "colab": {
          "base_uri": "https://localhost:8080/",
          "height": 49
        },
        "outputId": "b39cbfe9-9f7c-459a-8499-d734cb1ef545"
      },
      "source": [
        " # create release_year. Release year and game title will be used to join to the video-games_sales-with-rating data to add columns and values from vgsales to the games sales data\n",
        "df_vgscore.release_Date = pd.to_datetime(df_vgscore.release_Date, errors=\"coerce\")\n",
        "df_vgscore[\"release_year\"]= df_vgscore.release_Date.dt.year\n",
        " \n",
        "df_vgscore.dropna(subset=[\"release_year\"], inplace=True)\n",
        "df_vgscore[df_vgscore.release_year.isnull()]\n"
      ],
      "execution_count": 187,
      "outputs": [
        {
          "output_type": "execute_result",
          "data": {
            "text/html": [
              "<div>\n",
              "<style scoped>\n",
              "    .dataframe tbody tr th:only-of-type {\n",
              "        vertical-align: middle;\n",
              "    }\n",
              "\n",
              "    .dataframe tbody tr th {\n",
              "        vertical-align: top;\n",
              "    }\n",
              "\n",
              "    .dataframe thead th {\n",
              "        text-align: right;\n",
              "    }\n",
              "</style>\n",
              "<table border=\"1\" class=\"dataframe\">\n",
              "  <thead>\n",
              "    <tr style=\"text-align: right;\">\n",
              "      <th></th>\n",
              "      <th>title</th>\n",
              "      <th>user_Score</th>\n",
              "      <th>release_Date</th>\n",
              "      <th>console</th>\n",
              "      <th>url</th>\n",
              "      <th>publisher</th>\n",
              "      <th>developer</th>\n",
              "      <th>tot_ship</th>\n",
              "      <th>tot_sale</th>\n",
              "      <th>na_sale</th>\n",
              "      <th>pal_sale</th>\n",
              "      <th>jp_sale</th>\n",
              "      <th>other_sale</th>\n",
              "      <th>last_update</th>\n",
              "      <th>VGscore</th>\n",
              "      <th>release_year</th>\n",
              "      <th>name</th>\n",
              "      <th>Name</th>\n",
              "      <th>Platform</th>\n",
              "    </tr>\n",
              "  </thead>\n",
              "  <tbody>\n",
              "  </tbody>\n",
              "</table>\n",
              "</div>"
            ],
            "text/plain": [
              "Empty DataFrame\n",
              "Columns: [title, user_Score, release_Date, console, url, publisher, developer, tot_ship, tot_sale, na_sale, pal_sale, jp_sale, other_sale, last_update, VGscore, release_year, name, Name, Platform]\n",
              "Index: []"
            ]
          },
          "metadata": {
            "tags": []
          },
          "execution_count": 187
        }
      ]
    },
    {
      "cell_type": "code",
      "metadata": {
        "id": "JzD6CnpMXdsB",
        "colab_type": "code",
        "colab": {
          "base_uri": "https://localhost:8080/",
          "height": 309
        },
        "outputId": "0dfed72d-9cb4-4cb8-ea57-4e1e97b05586"
      },
      "source": [
        "#df_vgscore.release_year=df_vgscore.release_year.round(0)\n",
        "#df_vgscore[\"Name\"] = df_vgscore.title\n",
        "df_vgscore.head(5)"
      ],
      "execution_count": 186,
      "outputs": [
        {
          "output_type": "execute_result",
          "data": {
            "text/html": [
              "<div>\n",
              "<style scoped>\n",
              "    .dataframe tbody tr th:only-of-type {\n",
              "        vertical-align: middle;\n",
              "    }\n",
              "\n",
              "    .dataframe tbody tr th {\n",
              "        vertical-align: top;\n",
              "    }\n",
              "\n",
              "    .dataframe thead th {\n",
              "        text-align: right;\n",
              "    }\n",
              "</style>\n",
              "<table border=\"1\" class=\"dataframe\">\n",
              "  <thead>\n",
              "    <tr style=\"text-align: right;\">\n",
              "      <th></th>\n",
              "      <th>title</th>\n",
              "      <th>user_Score</th>\n",
              "      <th>release_Date</th>\n",
              "      <th>console</th>\n",
              "      <th>url</th>\n",
              "      <th>publisher</th>\n",
              "      <th>developer</th>\n",
              "      <th>tot_ship</th>\n",
              "      <th>tot_sale</th>\n",
              "      <th>na_sale</th>\n",
              "      <th>pal_sale</th>\n",
              "      <th>jp_sale</th>\n",
              "      <th>other_sale</th>\n",
              "      <th>last_update</th>\n",
              "      <th>VGscore</th>\n",
              "      <th>release_year</th>\n",
              "      <th>name</th>\n",
              "      <th>Name</th>\n",
              "      <th>Platform</th>\n",
              "    </tr>\n",
              "  </thead>\n",
              "  <tbody>\n",
              "    <tr>\n",
              "      <th>0</th>\n",
              "      <td>Wii Sports</td>\n",
              "      <td>N/A</td>\n",
              "      <td>2006-11-19</td>\n",
              "      <td>Wii</td>\n",
              "      <td>http://www.vgchartz.com/game/2667/wii-sports/?...</td>\n",
              "      <td>Nintendo</td>\n",
              "      <td>Nintendo EAD</td>\n",
              "      <td>82.87m</td>\n",
              "      <td>NaN</td>\n",
              "      <td>NaN</td>\n",
              "      <td>NaN</td>\n",
              "      <td>NaN</td>\n",
              "      <td>NaN</td>\n",
              "      <td>NaN</td>\n",
              "      <td>N/A</td>\n",
              "      <td>2006</td>\n",
              "      <td>Wii Sports</td>\n",
              "      <td>Wii Sports</td>\n",
              "      <td>Wii</td>\n",
              "    </tr>\n",
              "    <tr>\n",
              "      <th>1</th>\n",
              "      <td>Super Mario Bros.</td>\n",
              "      <td>8.2</td>\n",
              "      <td>1985-10-18</td>\n",
              "      <td>NES</td>\n",
              "      <td>http://www.vgchartz.com/game/6455/super-mario-...</td>\n",
              "      <td>Nintendo</td>\n",
              "      <td>Nintendo EAD</td>\n",
              "      <td>40.24m</td>\n",
              "      <td>NaN</td>\n",
              "      <td>NaN</td>\n",
              "      <td>NaN</td>\n",
              "      <td>NaN</td>\n",
              "      <td>NaN</td>\n",
              "      <td>NaN</td>\n",
              "      <td>N/A</td>\n",
              "      <td>1985</td>\n",
              "      <td>Super Mario Bros.</td>\n",
              "      <td>Super Mario Bros.</td>\n",
              "      <td>NES</td>\n",
              "    </tr>\n",
              "    <tr>\n",
              "      <th>2</th>\n",
              "      <td>Mario Kart Wii</td>\n",
              "      <td>9.1</td>\n",
              "      <td>2008-04-27</td>\n",
              "      <td>Wii</td>\n",
              "      <td>http://www.vgchartz.com/game/6968/mario-kart-w...</td>\n",
              "      <td>Nintendo</td>\n",
              "      <td>Nintendo EAD</td>\n",
              "      <td>37.20m</td>\n",
              "      <td>NaN</td>\n",
              "      <td>NaN</td>\n",
              "      <td>NaN</td>\n",
              "      <td>NaN</td>\n",
              "      <td>NaN</td>\n",
              "      <td>11th Apr 18</td>\n",
              "      <td>8.7</td>\n",
              "      <td>2008</td>\n",
              "      <td>Mario Kart Wii</td>\n",
              "      <td>Mario Kart Wii</td>\n",
              "      <td>Wii</td>\n",
              "    </tr>\n",
              "    <tr>\n",
              "      <th>3</th>\n",
              "      <td>PlayerUnknown's Battlegrounds</td>\n",
              "      <td>N/A</td>\n",
              "      <td>2017-12-21</td>\n",
              "      <td>PC</td>\n",
              "      <td>http://www.vgchartz.com/game/215988/playerunkn...</td>\n",
              "      <td>PUBG Corporation</td>\n",
              "      <td>PUBG Corporation</td>\n",
              "      <td>36.60m</td>\n",
              "      <td>NaN</td>\n",
              "      <td>NaN</td>\n",
              "      <td>NaN</td>\n",
              "      <td>NaN</td>\n",
              "      <td>NaN</td>\n",
              "      <td>13th Nov 18</td>\n",
              "      <td>N/A</td>\n",
              "      <td>2017</td>\n",
              "      <td>PlayerUnknown's Battlegrounds</td>\n",
              "      <td>PlayerUnknown's Battlegrounds</td>\n",
              "      <td>PC</td>\n",
              "    </tr>\n",
              "    <tr>\n",
              "      <th>4</th>\n",
              "      <td>Wii Sports Resort</td>\n",
              "      <td>8.8</td>\n",
              "      <td>2009-07-26</td>\n",
              "      <td>Wii</td>\n",
              "      <td>http://www.vgchartz.com/game/24656/wii-sports-...</td>\n",
              "      <td>Nintendo</td>\n",
              "      <td>Nintendo EAD</td>\n",
              "      <td>33.10m</td>\n",
              "      <td>NaN</td>\n",
              "      <td>NaN</td>\n",
              "      <td>NaN</td>\n",
              "      <td>NaN</td>\n",
              "      <td>NaN</td>\n",
              "      <td>NaN</td>\n",
              "      <td>8.8</td>\n",
              "      <td>2009</td>\n",
              "      <td>Wii Sports Resort</td>\n",
              "      <td>Wii Sports Resort</td>\n",
              "      <td>Wii</td>\n",
              "    </tr>\n",
              "  </tbody>\n",
              "</table>\n",
              "</div>"
            ],
            "text/plain": [
              "                               title  ... Platform\n",
              "0                     Wii Sports      ...      Wii\n",
              "1              Super Mario Bros.      ...      NES\n",
              "2                 Mario Kart Wii      ...      Wii\n",
              "3  PlayerUnknown's Battlegrounds      ...       PC\n",
              "4              Wii Sports Resort      ...      Wii\n",
              "\n",
              "[5 rows x 19 columns]"
            ]
          },
          "metadata": {
            "tags": []
          },
          "execution_count": 186
        }
      ]
    },
    {
      "cell_type": "code",
      "metadata": {
        "id": "vNRIodDhsm87",
        "colab_type": "code",
        "colab": {}
      },
      "source": [
        "# changing columns to used in join to str\n",
        "df_vgscore.Name = df_vgscore.Name.astype(str).str.strip()\n",
        "df_vgscore.release_year = df_vgscore.release_year.astype(str).str.strip()\n",
        "df_vgscore.Platform = df_vgscore.Platform.astype(str).str.strip()"
      ],
      "execution_count": 0,
      "outputs": []
    },
    {
      "cell_type": "code",
      "metadata": {
        "id": "nu8pkB6oo7fj",
        "colab_type": "code",
        "colab": {
          "base_uri": "https://localhost:8080/",
          "height": 102
        },
        "outputId": "90b8dba4-0de6-47a6-db29-0d82155cdd68"
      },
      "source": [
        "df_vgscore.release_year.describe()"
      ],
      "execution_count": 161,
      "outputs": [
        {
          "output_type": "execute_result",
          "data": {
            "text/plain": [
              "count     53049\n",
              "unique       47\n",
              "top        2009\n",
              "freq       4303\n",
              "Name: release_year, dtype: object"
            ]
          },
          "metadata": {
            "tags": []
          },
          "execution_count": 161
        }
      ]
    },
    {
      "cell_type": "markdown",
      "metadata": {
        "id": "2bQoe0EMEst6",
        "colab_type": "text"
      },
      "source": [
        "# Video-game-sales-with-ratings Data Description"
      ]
    },
    {
      "cell_type": "code",
      "metadata": {
        "id": "7_b_Fs7sFADQ",
        "colab_type": "code",
        "outputId": "2d31e7b2-1efb-48dc-fb8d-d9a7252b0a46",
        "colab": {
          "base_uri": "https://localhost:8080/",
          "height": 34
        }
      },
      "source": [
        "data_3 = extractCSV(\"video-game-sales-with-ratings.zip\")\n",
        "data_3.keys()"
      ],
      "execution_count": 147,
      "outputs": [
        {
          "output_type": "execute_result",
          "data": {
            "text/plain": [
              "dict_keys(['df_Video_Games_Sales_as_at_22_Dec_2016'])"
            ]
          },
          "metadata": {
            "tags": []
          },
          "execution_count": 147
        }
      ]
    },
    {
      "cell_type": "code",
      "metadata": {
        "id": "Ps5AnRQLFNrK",
        "colab_type": "code",
        "colab": {}
      },
      "source": [
        "df_Video_Games_Sales_with_rating = data_3[\"df_Video_Games_Sales_as_at_22_Dec_2016\"]\n",
        "df_Video_Games_Sales_with_rating.describe(include=['object', 'float', 'int'])"
      ],
      "execution_count": 0,
      "outputs": []
    },
    {
      "cell_type": "code",
      "metadata": {
        "id": "fPqydz3KFulJ",
        "colab_type": "code",
        "outputId": "31ea0e06-84ef-4bcf-a607-5872094f46df",
        "colab": {
          "base_uri": "https://localhost:8080/",
          "height": 306
        }
      },
      "source": [
        "percent_missing(df_Video_Games_Sales_with_rating)"
      ],
      "execution_count": 63,
      "outputs": [
        {
          "output_type": "stream",
          "text": [
            "number rows in Data frame:16719\n",
            "{'Column Name': 'Name', 'Rows with Values': 16717, 'Missing values': 2, 'Percentage Missing values': 0.011962437944853162}\n",
            "{'Column Name': 'Platform', 'Rows with Values': 16719, 'Missing values': 0, 'Percentage Missing values': 0.0}\n",
            "{'Column Name': 'Year_of_Release', 'Rows with Values': 16450, 'Missing values': 269, 'Percentage Missing values': 1.60894790358275}\n",
            "{'Column Name': 'Genre', 'Rows with Values': 16717, 'Missing values': 2, 'Percentage Missing values': 0.011962437944853162}\n",
            "{'Column Name': 'Publisher', 'Rows with Values': 16665, 'Missing values': 54, 'Percentage Missing values': 0.32298582451103536}\n",
            "{'Column Name': 'NA_Sales', 'Rows with Values': 16719, 'Missing values': 0, 'Percentage Missing values': 0.0}\n",
            "{'Column Name': 'EU_Sales', 'Rows with Values': 16719, 'Missing values': 0, 'Percentage Missing values': 0.0}\n",
            "{'Column Name': 'JP_Sales', 'Rows with Values': 16719, 'Missing values': 0, 'Percentage Missing values': 0.0}\n",
            "{'Column Name': 'Other_Sales', 'Rows with Values': 16719, 'Missing values': 0, 'Percentage Missing values': 0.0}\n",
            "{'Column Name': 'Global_Sales', 'Rows with Values': 16719, 'Missing values': 0, 'Percentage Missing values': 0.0}\n",
            "{'Column Name': 'Critic_Score', 'Rows with Values': 8137, 'Missing values': 8582, 'Percentage Missing values': 51.33082122136492}\n",
            "{'Column Name': 'Critic_Count', 'Rows with Values': 8137, 'Missing values': 8582, 'Percentage Missing values': 51.33082122136492}\n",
            "{'Column Name': 'User_Score', 'Rows with Values': 10015, 'Missing values': 6704, 'Percentage Missing values': 40.0980919911478}\n",
            "{'Column Name': 'User_Count', 'Rows with Values': 7590, 'Missing values': 9129, 'Percentage Missing values': 54.60254799928226}\n",
            "{'Column Name': 'Developer', 'Rows with Values': 10096, 'Missing values': 6623, 'Percentage Missing values': 39.61361325438124}\n",
            "{'Column Name': 'Rating', 'Rows with Values': 9950, 'Missing values': 6769, 'Percentage Missing values': 40.486871224355525}\n"
          ],
          "name": "stdout"
        }
      ]
    },
    {
      "cell_type": "code",
      "metadata": {
        "id": "8uiIKAo5Cmzi",
        "colab_type": "code",
        "colab": {}
      },
      "source": [
        " # Exclude games before year 2000 \n",
        "\n",
        "df_Video_Games_Sales_with_rating = df_Video_Games_Sales_with_rating[(df_Video_Games_Sales_with_rating[\"Year_of_Release\"] >= 2000)]\n",
        "df_Video_Games_Sales_with_rating.Year_of_Release = df_Video_Games_Sales_with_rating.Year_of_Release.astype('uint16')\n",
        "df_Video_Games_Sales_with_rating.rename(columns={\"Year_of_Release\":\"release_year\"},inplace=True)\n",
        "df_Video_Games_Sales_with_rating.release_year.min()\n",
        "\n"
      ],
      "execution_count": 0,
      "outputs": []
    },
    {
      "cell_type": "code",
      "metadata": {
        "id": "K767qiDstpxd",
        "colab_type": "code",
        "colab": {
          "base_uri": "https://localhost:8080/",
          "height": 204
        },
        "outputId": "606d6c72-4d6c-4365-e8a4-0933682ffe65"
      },
      "source": [
        "# changing columns to used in join to str\n",
        "df_Video_Games_Sales_with_rating.Name = df_Video_Games_Sales_with_rating.Name.astype(str).str.strip()\n",
        "df_Video_Games_Sales_with_rating.release_year = df_Video_Games_Sales_with_rating.release_year.astype(str).str.strip()\n",
        "df_Video_Games_Sales_with_rating.Platform = df_Video_Games_Sales_with_rating.Platform.astype(str).str.strip()\n",
        "df_Video_Games_Sales_with_rating.release_year.describe()"
      ],
      "execution_count": 193,
      "outputs": [
        {
          "output_type": "stream",
          "text": [
            "/usr/local/lib/python3.6/dist-packages/pandas/core/generic.py:5208: SettingWithCopyWarning: \n",
            "A value is trying to be set on a copy of a slice from a DataFrame.\n",
            "Try using .loc[row_indexer,col_indexer] = value instead\n",
            "\n",
            "See the caveats in the documentation: http://pandas.pydata.org/pandas-docs/stable/user_guide/indexing.html#returning-a-view-versus-a-copy\n",
            "  self[name] = value\n"
          ],
          "name": "stderr"
        },
        {
          "output_type": "execute_result",
          "data": {
            "text/plain": [
              "count     14474\n",
              "unique       19\n",
              "top        2008\n",
              "freq       1427\n",
              "Name: release_year, dtype: object"
            ]
          },
          "metadata": {
            "tags": []
          },
          "execution_count": 193
        }
      ]
    },
    {
      "cell_type": "markdown",
      "metadata": {
        "id": "WipYojnABxr1",
        "colab_type": "text"
      },
      "source": [
        "# Merge Video Game Sales Datasets"
      ]
    },
    {
      "cell_type": "code",
      "metadata": {
        "id": "pAUzMDVYfx2t",
        "colab_type": "code",
        "colab": {}
      },
      "source": [
        "# add columns  and cell values to df_Video_Games_Sales_with_rating using vgsales dataframe.\n",
        "df_vgscore_nodups = df_vgscore[['release_Date','tot_ship','Name','release_year','Platform']].drop_duplicates()\n",
        "df_merged_video_game_sales = pd.merge(df_Video_Games_Sales_with_rating, df_vgscore_nodups,on=['Name','release_year','Platform'], how='left',)\n",
        "\n",
        "#del df_merged_video_game_sales\n",
        "\n",
        "df_merged_video_game_sales[df_merged_video_game_sales.release_Date.notnull()]\n",
        "df_merged_video_game_sales.drop_duplicates()\n",
        "df_merged_video_game_sales.to_csv(\"merged-video-game-sales.csv\")"
      ],
      "execution_count": 0,
      "outputs": []
    },
    {
      "cell_type": "code",
      "metadata": {
        "id": "-pUDGsHdkA8C",
        "colab_type": "code",
        "colab": {
          "base_uri": "https://localhost:8080/",
          "height": 170
        },
        "outputId": "a13a40ee-7a70-4756-9fb2-070227680182"
      },
      "source": [
        "df_Video_Games_Sales_with_rating.release_year.describe()"
      ],
      "execution_count": 110,
      "outputs": [
        {
          "output_type": "execute_result",
          "data": {
            "text/plain": [
              "count    14474.000000\n",
              "mean      2008.025010\n",
              "std          4.113828\n",
              "min       2000.000000\n",
              "25%       2005.000000\n",
              "50%       2008.000000\n",
              "75%       2011.000000\n",
              "max       2020.000000\n",
              "Name: release_year, dtype: float64"
            ]
          },
          "metadata": {
            "tags": []
          },
          "execution_count": 110
        }
      ]
    },
    {
      "cell_type": "code",
      "metadata": {
        "id": "KjI8iNKW9duj",
        "colab_type": "code",
        "colab": {
          "base_uri": "https://localhost:8080/",
          "height": 340
        },
        "outputId": "f330fd06-36ff-4ee1-fc37-572fdb9e66d1"
      },
      "source": [
        "percent_missing(df_merged_video_game_sales)"
      ],
      "execution_count": 203,
      "outputs": [
        {
          "output_type": "stream",
          "text": [
            "number rows in Data frame:14489\n",
            "{'Column Name': 'Name', 'Rows with Values': 14489, 'Missing values': 0, 'Percentage Missing values': 0.0}\n",
            "{'Column Name': 'Platform', 'Rows with Values': 14489, 'Missing values': 0, 'Percentage Missing values': 0.0}\n",
            "{'Column Name': 'release_year', 'Rows with Values': 14489, 'Missing values': 0, 'Percentage Missing values': 0.0}\n",
            "{'Column Name': 'Genre', 'Rows with Values': 14489, 'Missing values': 0, 'Percentage Missing values': 0.0}\n",
            "{'Column Name': 'Publisher', 'Rows with Values': 14457, 'Missing values': 32, 'Percentage Missing values': 0.22085720201532197}\n",
            "{'Column Name': 'NA_Sales', 'Rows with Values': 14489, 'Missing values': 0, 'Percentage Missing values': 0.0}\n",
            "{'Column Name': 'EU_Sales', 'Rows with Values': 14489, 'Missing values': 0, 'Percentage Missing values': 0.0}\n",
            "{'Column Name': 'JP_Sales', 'Rows with Values': 14489, 'Missing values': 0, 'Percentage Missing values': 0.0}\n",
            "{'Column Name': 'Other_Sales', 'Rows with Values': 14489, 'Missing values': 0, 'Percentage Missing values': 0.0}\n",
            "{'Column Name': 'Global_Sales', 'Rows with Values': 14489, 'Missing values': 0, 'Percentage Missing values': 0.0}\n",
            "{'Column Name': 'Critic_Score', 'Rows with Values': 7901, 'Missing values': 6588, 'Percentage Missing values': 45.46897646490441}\n",
            "{'Column Name': 'Critic_Count', 'Rows with Values': 7901, 'Missing values': 6588, 'Percentage Missing values': 45.46897646490441}\n",
            "{'Column Name': 'User_Score', 'Rows with Values': 9753, 'Missing values': 4736, 'Percentage Missing values': 32.686865898267655}\n",
            "{'Column Name': 'User_Count', 'Rows with Values': 7385, 'Missing values': 7104, 'Percentage Missing values': 49.030298847401475}\n",
            "{'Column Name': 'Developer', 'Rows with Values': 9812, 'Missing values': 4677, 'Percentage Missing values': 32.2796604320519}\n",
            "{'Column Name': 'Rating', 'Rows with Values': 9678, 'Missing values': 4811, 'Percentage Missing values': 33.20449996549107}\n",
            "{'Column Name': 'release_Date', 'Rows with Values': 12363, 'Missing values': 2126, 'Percentage Missing values': 14.673200358892954}\n",
            "{'Column Name': 'tot_ship', 'Rows with Values': 433, 'Missing values': 14056, 'Percentage Missing values': 97.01152598523018}\n"
          ],
          "name": "stdout"
        }
      ]
    },
    {
      "cell_type": "code",
      "metadata": {
        "id": "sbEMrUusfi9Z",
        "colab_type": "code",
        "colab": {
          "base_uri": "https://localhost:8080/",
          "height": 296
        },
        "outputId": "a5521238-cefc-41c8-c5e6-e15b9b3ae4bf"
      },
      "source": [
        "## Plot Top 20 Developers and their count\n",
        "sns.countplot(y= \"Developer\", data=df_merged_video_game_sales, order= df_merged_video_game_sales[\"Developer\"].value_counts()[:20].index )"
      ],
      "execution_count": 211,
      "outputs": [
        {
          "output_type": "execute_result",
          "data": {
            "text/plain": [
              "<matplotlib.axes._subplots.AxesSubplot at 0x7ffa1726cd68>"
            ]
          },
          "metadata": {
            "tags": []
          },
          "execution_count": 211
        },
        {
          "output_type": "display_data",
          "data": {
            "image/png": "[encoded data removed]",
            "text/plain": [
              "<Figure size 432x288 with 1 Axes>"
            ]
          },
          "metadata": {
            "tags": []
          }
        }
      ]
    },
    {
      "cell_type": "code",
      "metadata": {
        "colab_type": "code",
        "outputId": "037f94ef-2bc1-4110-e47c-ee2d0e0f3395",
        "id": "77UjjS7oFhfd",
        "colab": {
          "base_uri": "https://localhost:8080/",
          "height": 297
        }
      },
      "source": [
        "## Plot Top 20 Publishers and their count\n",
        "df_publisher_gl_sales =df_merged_video_game_sales.groupby([\"Publisher\"])[\"Global_Sales\"].aggregate(np.sum).reset_index().sort_values(\"Global_Sales\")[:20]\n",
        "sns.barplot(y= \"Publisher\", x= \"Global_Sales\", data=df_publisher_gl_sales, order= df_publisher_gl_sales[\"Publisher\"])"
      ],
      "execution_count": 228,
      "outputs": [
        {
          "output_type": "execute_result",
          "data": {
            "text/plain": [
              "<matplotlib.axes._subplots.AxesSubplot at 0x7ffa1a849b38>"
            ]
          },
          "metadata": {
            "tags": []
          },
          "execution_count": 228
        },
        {
          "output_type": "display_data",
          "data": {
            "image/png": "[encoded data removed]",
            "text/plain": [
              "<Figure size 432x288 with 1 Axes>"
            ]
          },
          "metadata": {
            "tags": []
          }
        }
      ]
    },
    {
      "cell_type": "markdown",
      "metadata": {
        "id": "E-3IfOiWB8iY",
        "colab_type": "text"
      },
      "source": [
        "### create categorical fields for Merged Data set based on top 5 publishers and all others as \"other_publishers\""
      ]
    },
    {
      "cell_type": "code",
      "metadata": {
        "id": "YfRiqEA9B6vQ",
        "colab_type": "code",
        "colab": {}
      },
      "source": [
        "#df_merged_video_game_sales[\"Is_Electronic_Arts\"] = df_merged_video_game_sales.Publisher.apply(lambda x: 1 if x=='Electronic Arts' else 0)\n",
        "df_merged_video_game_sales[\"Is_Activision\"] = df_merged_video_game_sales.Publisher.apply(lambda x: 1 if x=='Activision' else 0)\n",
        "df_merged_video_game_sales[\"Is_Namco\"] = df_merged_video_game_sales.Publisher.apply(lambda x: 1 if x=='Namco Bandai Games' else 0)\n",
        "df_merged_video_game_sales[\"Is_Konami\"] = df_merged_video_game_sales.Publisher.apply(lambda x: 1 if x=='Activision' else 0)"
      ],
      "execution_count": 0,
      "outputs": []
    }
  ]
}