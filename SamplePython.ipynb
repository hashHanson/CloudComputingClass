{
  "nbformat": 4,
  "nbformat_minor": 0,
  "metadata": {
    "colab": {
      "name": "SamplePython.ipynb",
      "provenance": []
    },
    "kernelspec": {
      "name": "python3",
      "display_name": "Python 3"
    }
  },
  "cells": [
    {
      "cell_type": "code",
      "metadata": {
        "id": "Q3sN3gO6AVED",
        "colab_type": "code",
        "colab": {}
      },
      "source": [
        "\n",
        "\n",
        "\n",
        "def shop():\n",
        "  \n",
        "  cars ={\n",
        "      \"name\":\"Mercedes\",\n",
        "      \"Year\":\"2019\",\n",
        "      \"Price\": 35000\n",
        "  }\n",
        "\n",
        "  return cars\n",
        "\n",
        "\n"
      ],
      "execution_count": 0,
      "outputs": []
    }
  ]
}