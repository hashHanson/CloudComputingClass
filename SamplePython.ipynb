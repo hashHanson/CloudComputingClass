{
  "nbformat": 4,
  "nbformat_minor": 0,
  "metadata": {
    "colab": {
      "name": "SamplePython.ipynb",
      "provenance": [],
      "include_colab_link": true
    },
    "kernelspec": {
      "name": "python3",
      "display_name": "Python 3"
    }
  },
  "cells": [
    {
      "cell_type": "markdown",
      "metadata": {
        "id": "view-in-github",
        "colab_type": "text"
      },
      "source": [
        "<a href=\"https://colab.research.google.com/github/hashHanson/CloudComputingClass/blob/master/SamplePython.ipynb\" target=\"_parent\"><img src=\"https://colab.research.google.com/assets/colab-badge.svg\" alt=\"Open In Colab\"/></a>"
      ]
    },
    {
      "cell_type": "code",
      "metadata": {
        "id": "Q3sN3gO6AVED",
        "colab_type": "code",
        "colab": {
          "base_uri": "https://localhost:8080/",
          "height": 35
        },
        "outputId": "16a3ca2b-81ea-40e0-a418-8105cc487c9b"
      },
      "source": [
        "\n",
        "\n",
        "\n",
        "def shop(name, year, price, shopName):\n",
        "  \n",
        "  cars ={\n",
        "      \"Car name\":name,\n",
        "      \"Year\":year,\n",
        "      \"Price\": price,\n",
        "      \"detail\": shopName\n",
        "  }\n",
        " \n",
        "  return cars\n",
        "\n",
        "\n",
        "print(shop(\"Mercedes\",2019,4000,\"Modern Hyundai\"))\n",
        "\n",
        "\n",
        "\n",
        "\n"
      ],
      "execution_count": 16,
      "outputs": [
        {
          "output_type": "stream",
          "text": [
            "{'Car name': 'Mercedes', 'Year': 2019, 'Price': 4000, 'detail': 'Modern Hyundai'}\n"
          ],
          "name": "stdout"
        }
      ]
    }
  ]
}