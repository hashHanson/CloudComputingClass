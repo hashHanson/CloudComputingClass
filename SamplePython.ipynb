{
  "nbformat": 4,
  "nbformat_minor": 0,
  "metadata": {
    "colab": {
      "name": "SamplePython.ipynb",
      "provenance": [],
      "include_colab_link": true
    },
    "kernelspec": {
      "name": "python3",
      "display_name": "Python 3"
    }
  },
  "cells": [
    {
      "cell_type": "markdown",
      "metadata": {
        "id": "view-in-github",
        "colab_type": "text"
      },
      "source": [
        "<a href=\"https://colab.research.google.com/github/hashHanson/CloudComputingClass/blob/master/SamplePython.ipynb\" target=\"_parent\"><img src=\"https://colab.research.google.com/assets/colab-badge.svg\" alt=\"Open In Colab\"/></a>"
      ]
    },
    {
      "cell_type": "code",
      "metadata": {
        "id": "Q3sN3gO6AVED",
        "colab_type": "code",
        "colab": {
          "base_uri": "https://localhost:8080/",
          "height": 35
        },
        "outputId": "2b66c36b-897f-436e-da09-7ab17f167bbb"
      },
      "source": [
        "\n",
        "\n",
        "\n",
        "def shop():\n",
        "  \n",
        "  cars ={\n",
        "      \"name\":\"Mercedes\",\n",
        "      \"Year\":\"2019\",\n",
        "      \"Price\": 35000\n",
        "  }\n",
        "\n",
        "  return cars\n",
        "\n",
        "\n",
        "print(shop())\n",
        "\n",
        "\n",
        "\n",
        "\n"
      ],
      "execution_count": 7,
      "outputs": [
        {
          "output_type": "stream",
          "text": [
            "{'name': 'Mercedes', 'Year': '2019', 'Price': 35000}\n"
          ],
          "name": "stdout"
        }
      ]
    }
  ]
}